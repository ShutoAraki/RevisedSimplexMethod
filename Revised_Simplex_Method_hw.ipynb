{
  "nbformat": 4,
  "nbformat_minor": 0,
  "metadata": {
    "colab": {
      "name": "Revised_Simplex_Method_hw.ipynb",
      "version": "0.3.2",
      "provenance": [],
      "collapsed_sections": [],
      "toc_visible": true,
      "include_colab_link": true
    },
    "kernelspec": {
      "name": "python3",
      "display_name": "Python 3"
    }
  },
  "cells": [
    {
      "cell_type": "markdown",
      "metadata": {
        "id": "view-in-github",
        "colab_type": "text"
      },
      "source": [
        "<a href=\"https://colab.research.google.com/github/ShutoAraki/RevisedSimplexMethod/blob/master/Revised_Simplex_Method_hw.ipynb\" target=\"_parent\"><img src=\"https://colab.research.google.com/assets/colab-badge.svg\" alt=\"Open In Colab\"/></a>"
      ]
    },
    {
      "metadata": {
        "id": "_JqZMqXXls5n",
        "colab_type": "text"
      },
      "cell_type": "markdown",
      "source": [
        "# Revised Simplex Method homework for MATH 422: Operations Research\n"
      ]
    },
    {
      "metadata": {
        "id": "t_e8AG24q_Cy",
        "colab_type": "text"
      },
      "cell_type": "markdown",
      "source": [
        "## Revised Simplex Method"
      ]
    },
    {
      "metadata": {
        "id": "RMyoWTNerJ8o",
        "colab_type": "text"
      },
      "cell_type": "markdown",
      "source": [
        "\n",
        "For the LPP:\n",
        "\n",
        "min $z = c^Tx$\n",
        "\n",
        "$Ax=b$\n",
        "\n",
        "$x≥0$\n",
        "\n",
        "1.   Initialization: \n",
        "\n",
        ">> Find an intial feasible basis $B$ (HOW? idk) (Son: I haven't taken any CS class so apologize if my answer doesn't make any sense! My guess is that the user has to input the constraint matrix $A$ (including their chosen feasible basic solution), the cost vector $C^T$ and the $RHS$ vector $b$)\n",
        "\n",
        ">> Compute $B^{-1}, \\beta = B^{-1}b, z = c_B^T \\beta$\n",
        "\n",
        "\n",
        "2.   Pricing:\n",
        "\n",
        ">> Compute $\\pi^T = c_B^TB^{-1}$ and $d_j = c_j - \\pi^Ta_j$.\n",
        "\n",
        ">> if $d_j ≥ 0, \\forall j \\in R$ ($R$ is nonbasic variables):\n",
        ">>> return OPTIMAL\n",
        "\n",
        ">> else:\n",
        ">>> Let $q$ be such that $d_q < 0$. Compute $\\alpha_q = B^{-1}a_q$.\n",
        "\n",
        "3. Ratio test: \n",
        "\n",
        ">> Compute $I = \\{i|1≤i≤m, \\alpha_q^i>0\\} $.\n",
        "\n",
        ">> if $I = \\emptyset$:\n",
        ">>> return UNBOUNDED\n",
        "\n",
        ">> else:\n",
        ">>> Compute $\\theta = min_{i\\in I}(\\frac{\\beta_i}{\\alpha_q^i})$ and $p$ such that $\\theta = \\frac{\\beta_p}{\\alpha_q^p}$\n",
        "\n",
        "4. Update:\n",
        "\n",
        ">> Update the $p$-th basic variable from $x_{k_p}$ to $x_q$.\n",
        "\n",
        ">> Update the $p$-th component of $\\beta$ corresponded from $x_{k_p}$ to $x_q$.\n",
        "\n",
        ">> Replace the $p$-th column of the basis (which was $a_{k_p}$)"
      ]
    },
    {
      "metadata": {
        "id": "oA8DBAgrl-wE",
        "colab_type": "text"
      },
      "cell_type": "markdown",
      "source": [
        "## Problems"
      ]
    },
    {
      "metadata": {
        "id": "GVKM0UBgmD8o",
        "colab_type": "text"
      },
      "cell_type": "markdown",
      "source": [
        "### (i)\n",
        "minimize: $z = 6x_1 + 3x_2 + 4x_3$\n",
        "\n",
        "subject to: \n",
        "\n",
        "$x_1 + 6x_2 + x_3 = 10$\n",
        "\n",
        " $2x_1 + 3x_2 + x_3 = 15$\n",
        " \n",
        "$x_1, x_2 ≥ 0$\n"
      ]
    },
    {
      "metadata": {
        "id": "kPFA5EFsmvXv",
        "colab_type": "text"
      },
      "cell_type": "markdown",
      "source": [
        "### (ii)\n",
        "maximize: $z = 10x_1 + 11x_2$\n",
        "\n",
        "subject to:\n",
        "\n",
        "$x_1 + 2x_2 ≤ 150$\n",
        "\n",
        "$3x_1 + 4x_2 ≤ 200$\n",
        "\n",
        "$6x_1 + x_2 ≤ 175$ \n",
        "\n",
        "$x_1, x_2 ≥ 0$"
      ]
    },
    {
      "metadata": {
        "id": "RsZAO0HDnZLM",
        "colab_type": "text"
      },
      "cell_type": "markdown",
      "source": [
        "### (iii) \n",
        "\n",
        "minimize: $z = 3x_1 + 2x_2 + 4x_3 + 6x_4$\n",
        "\n",
        "subject to: \n",
        "\n",
        "$x_1 + 2x_2 + x_3 + x_4 ≥ 100$\n",
        "\n",
        "$2x_1 + x_2 + 3x_3 + 7x_4 ≥ 1500$\n",
        "\n",
        "$x_1, x_2, x_3, x_4 ≥ 0$\n",
        "\n"
      ]
    },
    {
      "metadata": {
        "id": "PooBl-ymqQNj",
        "colab_type": "text"
      },
      "cell_type": "markdown",
      "source": [
        "## Code\n",
        "\n",
        "What specific data structures should we use? Pandas DataFrames or Numpy arrays? I know Numpy has inverse matrix functions.\n",
        "\n",
        "(Son: I'm using Mathematica or Mathlab since they're designed for mathematicians, but I think Numpy is a really good choice :) )\n",
        "\n",
        "\n",
        "Also, should we take user inputs in main to run this algorithm?\n"
      ]
    },
    {
      "metadata": {
        "id": "bnHj_STIqPIi",
        "colab_type": "code",
        "colab": {}
      },
      "cell_type": "code",
      "source": [
        "# Import dependencies\n",
        "import sys\n",
        "import numpy as np\n",
        "import itertools"
      ],
      "execution_count": 0,
      "outputs": []
    },
    {
      "metadata": {
        "id": "sSJV2N-UKbiP",
        "colab_type": "code",
        "colab": {}
      },
      "cell_type": "code",
      "source": [
        "def user_input():\n",
        "  n = int(input(\"How many variables?: \"))\n",
        "  m = int(input(\"How many constraints?: \"))\n",
        "  \n",
        "  A = []\n",
        "  ops = []\n",
        "  b = []\n",
        "  \n",
        "  # Objective function setup\n",
        "  objType = input(\"Enter 'min' or 'max': \")\n",
        "  if (objType.lower() != 'min' and objType.lower() != 'max'):\n",
        "    print(\"You need to type 'min' or 'max'\")\n",
        "  \n",
        "  c = list(map(float, input(\"Enter costs separated by a space: \").split()))\n",
        "  assert len(c) == n, \"The number of costs don't match with the number of variables %d\" % n\n",
        "  \n",
        "  # Set up the m x n matrix A\n",
        "  for i in range(m):\n",
        "    print(\"======= Constraint {} =======\".format(i+1))\n",
        "    a = list(map(float, input(\"Enter coefficients separated by a space: \").split()))\n",
        "    assert len(a) == n, \"The coefficients don't match with the number of variables %d\" % n\n",
        "      \n",
        "    op = int(input(\"Type 0 for ≤, 1 for =, or 2 for ≥: \"))\n",
        "    assert 0 <= op <= 2, \"The constraint type has to be an integer in [0, 2]\"\n",
        "    ops.append(op)\n",
        "      \n",
        "    b.append(int(input(\"RHS?: \")))\n",
        "    \n",
        "    A.append(a)\n",
        "    print()\n",
        "    \n",
        "  # Convert everything to numpy arrays\n",
        "  A = np.array(A)\n",
        "  b = np.array(b)\n",
        "  \n",
        "  # Add slack and surplus vars --> Standard form\n",
        "  for i in range(m):\n",
        "    # ≤ constraint\n",
        "    if ops[i] == 0:\n",
        "      # newCol is the column vector with one element being one\n",
        "      newCol = np.zeros((m, 1))\n",
        "      newCol[i] = 1\n",
        "      # appending the newCol to the right of A\n",
        "      A = np.hstack((A, newCol))\n",
        "      # expand c as well\n",
        "      c.append(0)\n",
        "      n += 1\n",
        "    # ≥ constraint\n",
        "    elif ops[i] == 2:\n",
        "      newCol = np.zeros((m, 1))\n",
        "      # -1 here because it's a surplus variable\n",
        "      newCol[i] = -1\n",
        "      A = np.hstack((A, newCol))\n",
        "      c.append(0)\n",
        "      n += 1\n",
        "      \n",
        "  c = np.array(c)\n",
        "  if (objType == 'max'):\n",
        "    c = -c\n",
        "    \n",
        "  return np.array(A), b, c"
      ],
      "execution_count": 0,
      "outputs": []
    },
    {
      "metadata": {
        "id": "3FJPVoSrZ2Pq",
        "colab_type": "code",
        "colab": {}
      },
      "cell_type": "code",
      "source": [
        "def find_initial_feasible_soln(A, b):\n",
        "  m, n = A.shape\n",
        "  \n",
        "  # bsv_idx: indices for basic variables\n",
        "  indices = [i for i in range(n)]\n",
        "  bsv_idx = itertools.combinations(indices, m)\n",
        "  \n",
        "  # All possible combinations of basic variables\n",
        "  for bsv in bsv_idx:\n",
        "    B = A[:, bsv]\n",
        "    try:\n",
        "      B_inv = np.linalg.inv(B)\n",
        "      beta = np.matmul(B_inv, b)\n",
        "      if (beta >= 0).all():\n",
        "        return B, B_inv, beta, list(bsv), [x for x in indices if x not in list(bsv)]\n",
        "    except:\n",
        "      pass # B_inv does not exist\n",
        "  \n",
        "  print(\"Initial Feasible Solution could not be found.\")\n",
        "  sys.exit()"
      ],
      "execution_count": 0,
      "outputs": []
    },
    {
      "metadata": {
        "id": "16AMrwToqbul",
        "colab_type": "code",
        "outputId": "e85ee539-369c-43aa-b7f6-2e91db1bacbf",
        "colab": {
          "base_uri": "https://localhost:8080/",
          "height": 323
        }
      },
      "cell_type": "code",
      "source": [
        "def revisedSimplexMethod():\n",
        "  A, b, c = readInput('q3.txt')\n",
        "  \n",
        "  # Initialization\n",
        "  B, B_inv, beta, bsv, nonbsv = find_initial_feasible_soln(A, b)\n",
        "  \n",
        "  print(\"Initial Feasible Solution:\")\n",
        "  print(\"\\tBasic Variables: \", end=\"\")\n",
        "  for i in bsv:\n",
        "    print(\"x{}\".format(i+1), end=\" \")\n",
        "  print()\n",
        "  print(\"\\tNon Basic Variables: \", end=\"\")\n",
        "  for i in nonbsv:\n",
        "    print(\"x{}\".format(i+1), end=\" \")\n",
        "  print()\n",
        "  print(\"\\t\" + str(beta))\n",
        "  \n",
        "  print(\"Initial Objective Value:\")\n",
        "  print(\"\\tCost:\", abs(c))\n",
        "  z = abs(np.matmul(np.transpose(c[bsv]), beta))\n",
        "  print(\"\\t\" + str(z))\n",
        "  \n",
        "  while(True):\n",
        "    \n",
        "    # Pricing\n",
        "    pi_T = np.transpose(np.matmul(np.transpose(c[bsv]), B_inv))\n",
        "    reduced_costs = []\n",
        "\n",
        "    for nbv in nonbsv:\n",
        "      reduced_costs.append(c[nbv] - np.matmul(pi_T, A[:, nbv]))\n",
        "\n",
        "    reduced_costs = np.array(reduced_costs)\n",
        "\n",
        "    print(reduced_costs)\n",
        "\n",
        "    if (reduced_costs >= 0).all():\n",
        "      print(\"OPTIMAL SOLUTION\")\n",
        "      print(\"\\tBasic Variables: \", end=\"\")\n",
        "      for i in range(len(bsv)):\n",
        "        print(\"x{} = {}\".format(bsv[i]+1, beta[i]), end=\" \")\n",
        "      z = abs(np.matmul(np.transpose(c[bsv]), beta))\n",
        "      print(\"\\nObjective Value z* =\", z)\n",
        "      return\n",
        "\n",
        "    # Ratio Test\n",
        "\n",
        "    minidx = np.argmin(reduced_costs) # This is the working column index\n",
        "    aq = A[:, minidx]\n",
        "    alpha_q = np.matmul(B_inv, aq)\n",
        "    ratio = []\n",
        "  #   curr = 0\n",
        "\n",
        "    if (alpha_q < 0).all():\n",
        "      print(\"UNBOUNDED\")\n",
        "      return\n",
        "    else:\n",
        "      ratio = beta / alpha_q\n",
        "  #     for x in alpha_q:\n",
        "  #       ratio.append(beta[curr]/x)\n",
        "  #       curr += 1\n",
        "\n",
        "    entering_bv = nonbsv[minidx]\n",
        "    idxmin2 = np.argmin(ratio)\n",
        "    exiting_bv = bsv[np.argmin(ratio)]\n",
        "    print(entering_bv)\n",
        "    print(exiting_bv)\n",
        "\n",
        "    # Update\n",
        "\n",
        "    idx_bv = idxmin2\n",
        "    idx_nbv = minidx\n",
        "    print(idx_bv)\n",
        "    print(idx_nbv)\n",
        "    bsv[idx_bv] = entering_bv\n",
        "    nonbsv[idx_nbv] = exiting_bv\n",
        "    print(bsv)\n",
        "    print(nonbsv)\n",
        "\n",
        "    B = A[:, bsv]\n",
        "    B_inv = np.linalg.inv(B)\n",
        "    beta = np.matmul(B_inv, b)\n",
        "  \n",
        "  \n",
        "    \n",
        "  \n",
        "  \n",
        "  \n",
        "  \n",
        "  \n",
        "  \n",
        "  \n",
        "  \n",
        "  \n",
        "revisedSimplexMethod()"
      ],
      "execution_count": 0,
      "outputs": [
        {
          "output_type": "stream",
          "text": [
            "Initial Feasible Solution:\n",
            "\tBasic Variables: x1 x5 \n",
            "\tNon Basic Variables: x2 x3 x4 x6 \n",
            "\t[750. 650.]\n",
            "Initial Objective Value:\n",
            "\tCost: [3. 2. 4. 6. 0. 0.]\n",
            "\t2250.0\n",
            "[ 0.5 -0.5 -4.5  1.5]\n",
            "3\n",
            "0\n",
            "0\n",
            "2\n",
            "[3, 4]\n",
            "[1, 2, 0, 5]\n",
            "[1.14285714 1.42857143 1.28571429 0.85714286]\n",
            "OPTIMAL SOLUTION\n",
            "\tBasic Variables: x4 = 214.28571428571428 x5 = 114.28571428571428 \n",
            "Objective Value z* = 1285.7142857142858\n"
          ],
          "name": "stdout"
        }
      ]
    },
    {
      "metadata": {
        "id": "wAqMb4VVz0d_",
        "colab_type": "code",
        "colab": {}
      },
      "cell_type": "code",
      "source": [
        ""
      ],
      "execution_count": 0,
      "outputs": []
    },
    {
      "metadata": {
        "id": "sVBScspYzqai",
        "colab_type": "text"
      },
      "cell_type": "markdown",
      "source": [
        ""
      ]
    },
    {
      "metadata": {
        "id": "srDCos3BHaij",
        "colab_type": "text"
      },
      "cell_type": "markdown",
      "source": [
        "**Code**\n",
        "I used Mathematica for problem ii and it works fine, but I don't know if this seems like a killing method for Linear Programming or not since Mathematica is powerfully designed with matrice operations."
      ]
    },
    {
      "metadata": {
        "id": "ldD9MxmjFAIW",
        "colab_type": "code",
        "outputId": "54109d43-9d96-4b18-f86f-61af78bb3310",
        "colab": {
          "base_uri": "https://localhost:8080/",
          "height": 129
        }
      },
      "cell_type": "code",
      "source": [
        "In[1]= (*Choose problem ii as an example*)\n",
        "(*Input the number of basic and nonbasic variables (x and y)*)\n",
        "x = Input[]\n",
        "y = Input[]\n",
        "\n",
        "Out[2]= 3\n",
        "\n",
        "Out[3]= 2\n",
        "\n",
        "In[2]= (*Input the cost vector for all variables*)\n",
        "c = Table[Input[], {i, 1}, {j, x + y}]\n",
        "(*Create the cost vector of basic variables*)\n",
        "cB = c[[1 ;; 1, y + 1 ;; x + y]]\n",
        "\n",
        "Out[4]= {{10, 11, 0, 0, 0}}\n",
        "\n",
        "Out[5]= {{0, 0, 0}}\n",
        "\n",
        "In[3]= (*Input the whole constraint matrix A from left to right, \\\n",
        "above to below, with columns of the basic variables located at the \\\n",
        "end*) \n",
        "A = Table[Input[], {i, x}, {j, x + y}]\n",
        "(*Create the starting basic matrix B*)\n",
        "B = A[[1 ;; x, y + 1 ;; x + y]]\n",
        "(*Create the starting nonbasic matrix AN*)\n",
        "AN = A[[1 ;; x, 1 ;; y]]\n",
        "\n",
        "Out[6]= {{1, 2, 1, 0, 0}, {3, 4, 0, 1, 0}, {6, 1, 0, 0, 1}}\n",
        "\n",
        "Out[7]= {{1, 0, 0}, {0, 1, 0}, {0, 0, 1}}\n",
        "\n",
        "Out[8]= {{1, 2}, {3, 4}, {6, 1}}\n",
        "\n",
        "In[4]= (*Input the RHS vector*)\n",
        "b = Table[Input[], {i, x}, {j, 1}]\n",
        "\n",
        "Out[9]= {{150}, {200}, {175}}"
      ],
      "execution_count": 0,
      "outputs": [
        {
          "output_type": "error",
          "ename": "SyntaxError",
          "evalue": "ignored",
          "traceback": [
            "\u001b[0;36m  File \u001b[0;32m\"<ipython-input-49-a60dcf314c32>\"\u001b[0;36m, line \u001b[0;32m1\u001b[0m\n\u001b[0;31m    In[1]= (*Choose problem ii as an example*)\u001b[0m\n\u001b[0m                          ^\u001b[0m\n\u001b[0;31mSyntaxError\u001b[0m\u001b[0;31m:\u001b[0m invalid syntax\n"
          ]
        }
      ]
    },
    {
      "metadata": {
        "id": "HoZ5PkIWAtts",
        "colab_type": "code",
        "colab": {}
      },
      "cell_type": "code",
      "source": [
        "def readInput(fileName):\n",
        "    f = open(fileName, 'r')\n",
        "    line = f.readline().strip('\\n').split(',')\n",
        "    n = int(line[0].strip())\n",
        "    m = int(line[1].strip())\n",
        "    objType = line[2]\n",
        "    c = f.readline().strip('\\n').split(',')\n",
        "    c = list(map(lambda x: float(x), c))\n",
        "    A = []\n",
        "    ops = []\n",
        "    b = []\n",
        "    for i in range(m):\n",
        "        line = f.readline().strip('\\n').split(',')\n",
        "        line = list(map(lambda x: x.strip(), line))\n",
        "        temp = list(map(float, line[0:n]))\n",
        "        A.append(temp)\n",
        "        ops.append(line[n])\n",
        "        b.append(float(line[n+1]))\n",
        "\n",
        "    f.close()\n",
        "\n",
        "    # Adding surplus and slack variables\n",
        "\n",
        "    for i in range(m):\n",
        "      # ≤ constraint\n",
        "      if ops[i] == '<':\n",
        "        # newCol is the column vector with one element being one\n",
        "        newCol = np.zeros((m, 1))\n",
        "        newCol[i] = 1\n",
        "        # appending the newCol to the right of A\n",
        "        A = np.hstack((A, newCol))\n",
        "        # expand c as well\n",
        "        c.append(0)\n",
        "        n += 1\n",
        "      # ≥ constraints\n",
        "      elif ops[i] == '>':\n",
        "        newCol = np.zeros((m, 1))\n",
        "        # -1 here because it's a surplus variable\n",
        "        newCol[i] = -1\n",
        "        A = np.hstack((A, newCol))\n",
        "        c.append(0)\n",
        "        n += 1\n",
        "\n",
        "    c = np.array(c)\n",
        "    if (objType == 'max'):\n",
        "      c = -c\n",
        "\n",
        "    # return int(n), int(m), objType, c, A, ops, b\n",
        "    return A, b, c"
      ],
      "execution_count": 0,
      "outputs": []
    },
    {
      "metadata": {
        "id": "IMS61MpaFKmn",
        "colab_type": "code",
        "colab": {}
      },
      "cell_type": "code",
      "source": [
        "In[5]= (*Iteration*)\n",
        "While[\n",
        " Min[zc = cB.Inverse[B].A - c] < 0,(*Check the optimal condition*)\n",
        " \n",
        " zc = cB.Inverse[B].A - c;(*Print out the reduced costs*)\n",
        " Inverse[B];(*Print out the inverse matrix*)\n",
        " Inverse[B].b;(*Print out the RHS*)\n",
        " cB.Inverse[B].b; (*Print out the value of objective function*)\n",
        " \n",
        " p1 = Part[Position[Flatten[zc], Min[zc]], 1, 1];\n",
        "    (*Find the most negative reduced cost and hence the entering \\\n",
        "variable to the current basic system*)\n",
        " \n",
        " d = Diagonal[\n",
        "   Inverse[B].b.(1/Transpose[Inverse[B].AN[[All, p1 ;; p1]]])]; \n",
        "    (*Calculate the column ratios*)\n",
        " d' = Select[d, # > 0 &];(*Find the ratios that are positive*)\n",
        " p2 = Part[Position[d, Min[d']], 1, 1];\n",
        "    (*Find the minimum positive ratio and hence the leaving \\\n",
        "variable of the current basic system*)\n",
        " \n",
        " AN[[All, p1]] = B[[All, p2]]; (*Update the nonbasic matrix*)\n",
        " B[[All, p2]] = A[[All, p1]]; (*Update the basic matrix*)\n",
        " cB[[All, p2]] = c[[All, p1]]; (*Update the cost vector of basic variables*)\n",
        " ]\n",
        "\n",
        "\n",
        "Out[10]= {{0, 0, 0, 8/3, 1/3}}\n",
        "\n",
        "Out[11]= {{1, -(11/21), 2/21}, {0, 2/7, -(1/7)}, {0, -(1/21), 4/21}}\n",
        "\n",
        "Out[12]= {{1300/21}, {225/7}, {500/21}}\n",
        "\n",
        "Out[13]= {{1775/3}}\n",
        "\n",
        "Out[14]= 1\n",
        "\n",
        "Out[15]= {650, -225, 125}\n",
        "\n",
        "Out[16]= {650, 125}\n",
        "\n",
        "Out[17]= 3\n",
        "\n",
        "Out[18]= {1, 3, 6}\n",
        "\n",
        "Out[19]= {1, 3, 6}\n",
        "\n",
        "Out[20]= {10}"
      ],
      "execution_count": 0,
      "outputs": []
    }
  ]
}